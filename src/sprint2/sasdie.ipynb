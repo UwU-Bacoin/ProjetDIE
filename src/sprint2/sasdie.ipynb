{
 "cells": [
  {
   "cell_type": "code",
   "execution_count": null,
   "outputs": [],
   "source": [
    "import os\n",
    "\n",
    "# Set your Email and ID here\n",
    "os.environ[\"EMAIL\"] = '...'\n",
    "os.environ[\"STUDENT_ID\"] = '...'"
   ],
   "metadata": {
    "collapsed": false
   }
  },
  {
   "cell_type": "code",
   "execution_count": null,
   "outputs": [],
   "source": [
    "from dataclasses import dataclass\n",
    "\n",
    "import os\n",
    "\n",
    "try:\n",
    "    import sasdie\n",
    "\n",
    "    class API(sasdie.Sasdie):\n",
    "        def __init__(self, email, student_id):\n",
    "            super().__init__()\n",
    "            self.setLogin(email)\n",
    "            self.setPasswd(student_id)\n",
    "\n",
    "        publish_gps_coords = sasdie.Sasdie.publierCoordonneesGPS\n",
    "\n",
    "    sasdie.API = API\n",
    "\n",
    "\n",
    "except ImportError:\n",
    "    import fake_sasdie as sasdie\n",
    "\n",
    "\n",
    "sasdie.init()\n",
    "\n",
    "\n",
    "@dataclass(frozen=True)\n",
    "class Location:\n",
    "    longitude: str\n",
    "    latitude: str\n",
    "\n",
    "\n",
    "COLOMBUS = Location(\"-1.6331209526442974\", \"48.130838028370256\")\n",
    "\n",
    "EMAIL = os.environ.get('EMAIL')\n",
    "STUDENT_ID = os.environ.get('STUDENT_ID')\n",
    "\n",
    "\n",
    "def main():\n",
    "    c = sasdie.API(EMAIL, STUDENT_ID)\n",
    "\n",
    "    if not c.connect():\n",
    "        print(\"[!] Connection Failed\")\n",
    "        return\n",
    "\n",
    "    response = c.publish_gps_coords(COLOMBUS.longitude, COLOMBUS.latitude)\n",
    "    print(\"[OK] Location Sent\" if response else \"Failed to send Location\")\n",
    "\n",
    "\n",
    "if __name__ == '__main__':\n",
    "    main()\n"
   ],
   "metadata": {
    "collapsed": false,
    "pycharm": {
     "is_executing": true
    }
   }
  }
 ],
 "metadata": {
  "kernelspec": {
   "display_name": "Python 3 (ipykernel)",
   "language": "python",
   "name": "python3"
  },
  "language_info": {
   "codemirror_mode": {
    "name": "ipython",
    "version": 3
   },
   "file_extension": ".py",
   "mimetype": "text/x-python",
   "name": "python",
   "nbconvert_exporter": "python",
   "pygments_lexer": "ipython3",
   "version": "3.9.5"
  }
 },
 "nbformat": 4,
 "nbformat_minor": 5
}
